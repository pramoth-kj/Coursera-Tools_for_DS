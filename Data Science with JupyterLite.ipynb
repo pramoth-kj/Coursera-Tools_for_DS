{
 "cells": [
  {
   "cell_type": "code",
   "execution_count": null,
   "id": "10671a34",
   "metadata": {},
   "outputs": [],
   "source": [
    "#Exercise 2 - Create a markdown cell with the title of the notebook. (1 pt)\n",
    "#The title of the notebook is \"Data Science with JupyterLite\".\n"
   ]
  },
  {
   "cell_type": "code",
   "execution_count": null,
   "id": "634a9660",
   "metadata": {},
   "outputs": [],
   "source": [
    "#Exercise 3 - Create a markdown cell for an introduction. (1 pt)\n",
    "#The introduction to the notebook provides an overview of data science and JupyterLite. It also explains the purpose of the notebook and what it will cover."
   ]
  },
  {
   "cell_type": "code",
   "execution_count": null,
   "id": "cad08dfa",
   "metadata": {},
   "outputs": [],
   "source": [
    "#Exercise 4 - Create a markdown cell to list data science languages. (3 pts)\n",
    "#The data science languages listed in the notebook are Python, R, and Julia.\n"
   ]
  },
  {
   "cell_type": "code",
   "execution_count": null,
   "id": "8a97332e",
   "metadata": {},
   "outputs": [],
   "source": [
    "#Exercise 5 - Create a markdown cell to list data science libraries. (3 pts)\n",
    "#The data science libraries listed in the notebook are NumPy, SciPy, Pandas, Matplotlib, and Seaborn."
   ]
  },
  {
   "cell_type": "code",
   "execution_count": null,
   "id": "8ddb1ac7",
   "metadata": {},
   "outputs": [],
   "source": [
    "#Exercise 6 - Create a markdown cell with a table of Data Science tools. (3 pts)\n",
    "#The Data Science tools listed in the notebook are JupyterLite, GitHub, and Binder."
   ]
  },
  {
   "cell_type": "code",
   "execution_count": null,
   "id": "7c7b0ce9",
   "metadata": {},
   "outputs": [],
   "source": [
    "#Exercise 7 - Create a markdown cell introducing arithmetic expression examples. (1 pt)\n",
    "\n",
    "#The arithmetic expression examples listed in the notebook are:\n",
    "\n",
    "#2 + 3 = 5\n",
    "#5 * 6 = 30\n",
    "#10 / 2 = 5\n",
    "#60 / 60 = 1\n",
    "\n",
    "\n",
    "\n"
   ]
  },
  {
   "cell_type": "code",
   "execution_count": 1,
   "id": "b983eb4f",
   "metadata": {},
   "outputs": [
    {
     "name": "stdout",
     "output_type": "stream",
     "text": [
      "The product of 2 and 3 is 6\n",
      "The sum of 2 and 3 is 5\n"
     ]
    }
   ],
   "source": [
    "#Exercise 8 - Create a code cell to multiply and add numbers. (2 pts)\n",
    "\n",
    "def multiply_and_add(x, y):\n",
    " \n",
    "\n",
    "  product = x * y\n",
    "  sum = x + y\n",
    "  return product, sum\n",
    "\n",
    "\n",
    "if __name__ == \"__main__\":\n",
    "  product, sum = multiply_and_add(2, 3)\n",
    "  print(\"The product of 2 and 3 is\", product)\n",
    "  print(\"The sum of 2 and 3 is\", sum)\n"
   ]
  },
  {
   "cell_type": "code",
   "execution_count": 2,
   "id": "f73fe941",
   "metadata": {},
   "outputs": [
    {
     "name": "stdout",
     "output_type": "stream",
     "text": [
      "60 minutes is equal to 1.0 hours\n"
     ]
    }
   ],
   "source": [
    "#Exercise 9 - Create a code cell to convert minutes to hours. (2 pts)\n",
    "\n",
    "def minutes_to_hours(minutes):\n",
    " \n",
    "  hours = minutes / 60\n",
    "  return hours\n",
    "\n",
    "\n",
    "if __name__ == \"__main__\":\n",
    "  hours = minutes_to_hours(60)\n",
    "  print(\"60 minutes is equal to\", hours, \"hours\")\n"
   ]
  },
  {
   "cell_type": "code",
   "execution_count": null,
   "id": "aa696022",
   "metadata": {},
   "outputs": [],
   "source": [
    "#Exercise 10 -Insert a markdown cell to list Objectives. (3 pts)\n",
    "\n",
    "#The objectives of the notebook are to:\n",
    "\n",
    "#Introduce data science and JupyterLite.\n",
    "#List the data science languages, libraries, and tools.\n",
    "#Provide examples of arithmetic expressions.\n",
    "#Demonstrate how to multiply and add numbers in code.\n",
    "#Demonstrate how to convert minutes to hours in code."
   ]
  },
  {
   "cell_type": "code",
   "execution_count": 3,
   "id": "34c95430",
   "metadata": {},
   "outputs": [],
   "source": [
    "#Exercise 11 - Create a markdown cell to indicate the Author’s name. (2 pts)\n",
    "\n",
    "#The author of the notebook is Pramoth K J."
   ]
  },
  {
   "cell_type": "code",
   "execution_count": null,
   "id": "3b9987ad",
   "metadata": {},
   "outputs": [],
   "source": []
  }
 ],
 "metadata": {
  "kernelspec": {
   "display_name": "Python 3 (ipykernel)",
   "language": "python",
   "name": "python3"
  },
  "language_info": {
   "codemirror_mode": {
    "name": "ipython",
    "version": 3
   },
   "file_extension": ".py",
   "mimetype": "text/x-python",
   "name": "python",
   "nbconvert_exporter": "python",
   "pygments_lexer": "ipython3",
   "version": "3.10.9"
  }
 },
 "nbformat": 4,
 "nbformat_minor": 5
}
